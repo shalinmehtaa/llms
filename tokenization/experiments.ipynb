{
 "cells": [
  {
   "cell_type": "code",
   "execution_count": 1,
   "id": "0de45802",
   "metadata": {},
   "outputs": [],
   "source": [
    "with open(\"../data/TinyStoriesV2-GPT4-valid.txt\", \"r\") as f:\n",
    "    TS_valid_text = f.read()"
   ]
  },
  {
   "cell_type": "code",
   "execution_count": 2,
   "id": "a70b82ab",
   "metadata": {},
   "outputs": [
    {
     "data": {
      "text/plain": [
       "22493387"
      ]
     },
     "execution_count": 2,
     "metadata": {},
     "output_type": "execute_result"
    }
   ],
   "source": [
    "len(TS_valid_text)"
   ]
  },
  {
   "cell_type": "code",
   "execution_count": 3,
   "id": "083f6970",
   "metadata": {},
   "outputs": [
    {
     "data": {
      "text/plain": [
       "4297250"
      ]
     },
     "execution_count": 3,
     "metadata": {},
     "output_type": "execute_result"
    }
   ],
   "source": [
    "len(TS_valid_text.split(\" \"))"
   ]
  },
  {
   "cell_type": "code",
   "execution_count": 4,
   "id": "784665f8",
   "metadata": {},
   "outputs": [
    {
     "data": {
      "text/plain": [
       "83140"
      ]
     },
     "execution_count": 4,
     "metadata": {},
     "output_type": "execute_result"
    }
   ],
   "source": [
    "len(set(TS_valid_text.split(\" \")))"
   ]
  },
  {
   "cell_type": "code",
   "execution_count": null,
   "id": "2266eace",
   "metadata": {},
   "outputs": [],
   "source": []
  }
 ],
 "metadata": {
  "kernelspec": {
   "display_name": ".venv",
   "language": "python",
   "name": "python3"
  },
  "language_info": {
   "codemirror_mode": {
    "name": "ipython",
    "version": 3
   },
   "file_extension": ".py",
   "mimetype": "text/x-python",
   "name": "python",
   "nbconvert_exporter": "python",
   "pygments_lexer": "ipython3",
   "version": "3.13.3"
  }
 },
 "nbformat": 4,
 "nbformat_minor": 5
}
