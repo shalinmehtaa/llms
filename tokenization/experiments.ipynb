{
 "cells": [
  {
   "cell_type": "code",
   "execution_count": 1,
   "id": "ba2e6b62",
   "metadata": {},
   "outputs": [],
   "source": [
    "import json\n",
    "import pandas as pd"
   ]
  },
  {
   "cell_type": "code",
   "execution_count": 2,
   "id": "0de45802",
   "metadata": {},
   "outputs": [],
   "source": [
    "with open(\"../data/TinyStoriesV2-GPT4-train.txt\", \"r\") as f:\n",
    "    tinystories_text = f.read()"
   ]
  },
  {
   "cell_type": "code",
   "execution_count": 3,
   "id": "a70b82ab",
   "metadata": {},
   "outputs": [
    {
     "data": {
      "text/plain": [
       "2226845268"
      ]
     },
     "execution_count": 3,
     "metadata": {},
     "output_type": "execute_result"
    }
   ],
   "source": [
    "len(tinystories_text)"
   ]
  },
  {
   "cell_type": "code",
   "execution_count": 4,
   "id": "083f6970",
   "metadata": {},
   "outputs": [
    {
     "data": {
      "text/plain": [
       "425445174"
      ]
     },
     "execution_count": 4,
     "metadata": {},
     "output_type": "execute_result"
    }
   ],
   "source": [
    "len(tinystories_text.split(\" \"))"
   ]
  },
  {
   "cell_type": "code",
   "execution_count": 5,
   "id": "784665f8",
   "metadata": {},
   "outputs": [
    {
     "data": {
      "text/plain": [
       "1324784"
      ]
     },
     "execution_count": 5,
     "metadata": {},
     "output_type": "execute_result"
    }
   ],
   "source": [
    "len(set(tinystories_text.split(\" \")))"
   ]
  },
  {
   "cell_type": "code",
   "execution_count": 6,
   "id": "2266eace",
   "metadata": {},
   "outputs": [],
   "source": [
    "with open(\"../data/vocab.json\", \"r\") as f:\n",
    "    tinystories_vocab = json.load(f)"
   ]
  },
  {
   "cell_type": "code",
   "execution_count": 13,
   "id": "a37cf02f",
   "metadata": {},
   "outputs": [],
   "source": [
    "tokens = pd.DataFrame(tinystories_vocab, index=['id']).T.reset_index().rename(columns={\"index\": \"token\"})"
   ]
  },
  {
   "cell_type": "code",
   "execution_count": 18,
   "id": "e479b521",
   "metadata": {},
   "outputs": [
    {
     "data": {
      "text/plain": [
       "token     accomplishment\n",
       "id                  7160\n",
       "Name: 7032, dtype: object"
      ]
     },
     "execution_count": 18,
     "metadata": {},
     "output_type": "execute_result"
    }
   ],
   "source": [
    "tokens.loc[tokens.token.apply(len).argmax()]"
   ]
  },
  {
   "cell_type": "code",
   "execution_count": null,
   "id": "8d1f0fe9",
   "metadata": {},
   "outputs": [],
   "source": []
  }
 ],
 "metadata": {
  "kernelspec": {
   "display_name": ".venv",
   "language": "python",
   "name": "python3"
  },
  "language_info": {
   "codemirror_mode": {
    "name": "ipython",
    "version": 3
   },
   "file_extension": ".py",
   "mimetype": "text/x-python",
   "name": "python",
   "nbconvert_exporter": "python",
   "pygments_lexer": "ipython3",
   "version": "3.13.3"
  }
 },
 "nbformat": 4,
 "nbformat_minor": 5
}
