{
 "cells": [
  {
   "cell_type": "code",
   "execution_count": null,
   "id": "ba2e6b62",
   "metadata": {},
   "outputs": [],
   "source": [
    "import json\n",
    "import base64\n",
    "import numpy as np\n",
    "import pandas as pd"
   ]
  },
  {
   "cell_type": "code",
   "execution_count": 2,
   "id": "0de45802",
   "metadata": {},
   "outputs": [],
   "source": [
    "with open(\"../data/TinyStoriesV2-GPT4-train.txt\", \"r\") as f:\n",
    "    tinystories_text = f.read()"
   ]
  },
  {
   "cell_type": "code",
   "execution_count": 3,
   "id": "a70b82ab",
   "metadata": {},
   "outputs": [
    {
     "data": {
      "text/plain": [
       "2226845268"
      ]
     },
     "execution_count": 3,
     "metadata": {},
     "output_type": "execute_result"
    }
   ],
   "source": [
    "len(tinystories_text)"
   ]
  },
  {
   "cell_type": "code",
   "execution_count": 4,
   "id": "083f6970",
   "metadata": {},
   "outputs": [
    {
     "data": {
      "text/plain": [
       "425445174"
      ]
     },
     "execution_count": 4,
     "metadata": {},
     "output_type": "execute_result"
    }
   ],
   "source": [
    "len(tinystories_text.split(\" \"))"
   ]
  },
  {
   "cell_type": "code",
   "execution_count": 5,
   "id": "784665f8",
   "metadata": {},
   "outputs": [
    {
     "data": {
      "text/plain": [
       "1324784"
      ]
     },
     "execution_count": 5,
     "metadata": {},
     "output_type": "execute_result"
    }
   ],
   "source": [
    "len(set(tinystories_text.split(\" \")))"
   ]
  },
  {
   "cell_type": "code",
   "execution_count": 6,
   "id": "2266eace",
   "metadata": {},
   "outputs": [],
   "source": [
    "with open(\"../data/tokenizers/tinystories-tokenizer.json\", \"r\") as f:\n",
    "    tinystories_tokenizer = json.load(f)"
   ]
  },
  {
   "cell_type": "code",
   "execution_count": 7,
   "id": "05b112ee",
   "metadata": {},
   "outputs": [],
   "source": [
    "vocab = tinystories_tokenizer[\"vocab\"]\n",
    "vocab = {int(id_): base64.b64decode(tok) for tok, id_ in vocab.items()}"
   ]
  },
  {
   "cell_type": "code",
   "execution_count": 8,
   "id": "a37cf02f",
   "metadata": {},
   "outputs": [],
   "source": [
    "tokens = pd.DataFrame(vocab, index=['token']).T.reset_index().rename(columns={\"index\": \"id\"})"
   ]
  },
  {
   "cell_type": "code",
   "execution_count": 9,
   "id": "e479b521",
   "metadata": {},
   "outputs": [
    {
     "data": {
      "text/plain": [
       "id                     7160\n",
       "token    b' accomplishment'\n",
       "Name: 7160, dtype: object"
      ]
     },
     "execution_count": 9,
     "metadata": {},
     "output_type": "execute_result"
    }
   ],
   "source": [
    "tokens.loc[tokens.token.apply(len).argmax()]"
   ]
  },
  {
   "cell_type": "code",
   "execution_count": 10,
   "id": "8d1f0fe9",
   "metadata": {},
   "outputs": [
    {
     "data": {
      "text/html": [
       "<div>\n",
       "<style scoped>\n",
       "    .dataframe tbody tr th:only-of-type {\n",
       "        vertical-align: middle;\n",
       "    }\n",
       "\n",
       "    .dataframe tbody tr th {\n",
       "        vertical-align: top;\n",
       "    }\n",
       "\n",
       "    .dataframe thead th {\n",
       "        text-align: right;\n",
       "    }\n",
       "</style>\n",
       "<table border=\"1\" class=\"dataframe\">\n",
       "  <thead>\n",
       "    <tr style=\"text-align: right;\">\n",
       "      <th></th>\n",
       "      <th>id</th>\n",
       "      <th>token</th>\n",
       "    </tr>\n",
       "  </thead>\n",
       "  <tbody>\n",
       "    <tr>\n",
       "      <th>0</th>\n",
       "      <td>0</td>\n",
       "      <td>b'\\x00'</td>\n",
       "    </tr>\n",
       "    <tr>\n",
       "      <th>1</th>\n",
       "      <td>1</td>\n",
       "      <td>b'\\x01'</td>\n",
       "    </tr>\n",
       "    <tr>\n",
       "      <th>2</th>\n",
       "      <td>2</td>\n",
       "      <td>b'\\x02'</td>\n",
       "    </tr>\n",
       "    <tr>\n",
       "      <th>3</th>\n",
       "      <td>3</td>\n",
       "      <td>b'\\x03'</td>\n",
       "    </tr>\n",
       "    <tr>\n",
       "      <th>4</th>\n",
       "      <td>4</td>\n",
       "      <td>b'\\x04'</td>\n",
       "    </tr>\n",
       "    <tr>\n",
       "      <th>...</th>\n",
       "      <td>...</td>\n",
       "      <td>...</td>\n",
       "    </tr>\n",
       "    <tr>\n",
       "      <th>9995</th>\n",
       "      <td>9995</td>\n",
       "      <td>b'Surrender'</td>\n",
       "    </tr>\n",
       "    <tr>\n",
       "      <th>9996</th>\n",
       "      <td>9996</td>\n",
       "      <td>b'Rocky'</td>\n",
       "    </tr>\n",
       "    <tr>\n",
       "      <th>9997</th>\n",
       "      <td>9997</td>\n",
       "      <td>b' meadows'</td>\n",
       "    </tr>\n",
       "    <tr>\n",
       "      <th>9998</th>\n",
       "      <td>9998</td>\n",
       "      <td>b' imaginary'</td>\n",
       "    </tr>\n",
       "    <tr>\n",
       "      <th>9999</th>\n",
       "      <td>9999</td>\n",
       "      <td>b' bold'</td>\n",
       "    </tr>\n",
       "  </tbody>\n",
       "</table>\n",
       "<p>10000 rows × 2 columns</p>\n",
       "</div>"
      ],
      "text/plain": [
       "        id          token\n",
       "0        0        b'\\x00'\n",
       "1        1        b'\\x01'\n",
       "2        2        b'\\x02'\n",
       "3        3        b'\\x03'\n",
       "4        4        b'\\x04'\n",
       "...    ...            ...\n",
       "9995  9995   b'Surrender'\n",
       "9996  9996       b'Rocky'\n",
       "9997  9997    b' meadows'\n",
       "9998  9998  b' imaginary'\n",
       "9999  9999       b' bold'\n",
       "\n",
       "[10000 rows x 2 columns]"
      ]
     },
     "execution_count": 10,
     "metadata": {},
     "output_type": "execute_result"
    }
   ],
   "source": [
    "\n",
    "tokens"
   ]
  },
  {
   "cell_type": "code",
   "execution_count": 11,
   "id": "adda9b15",
   "metadata": {},
   "outputs": [],
   "source": [
    "import numpy as np"
   ]
  },
  {
   "cell_type": "code",
   "execution_count": 15,
   "id": "6b3003e1",
   "metadata": {},
   "outputs": [],
   "source": [
    "tokens = np.load(\"../data/inputs/tinystories-valid-tokens.npy\")"
   ]
  },
  {
   "cell_type": "code",
   "execution_count": 16,
   "id": "d76656f2",
   "metadata": {},
   "outputs": [
    {
     "data": {
      "text/plain": [
       "array([117, 862, 492, ..., 378, 376,  46], shape=(5461210,), dtype=uint16)"
      ]
     },
     "execution_count": 16,
     "metadata": {},
     "output_type": "execute_result"
    }
   ],
   "source": [
    "tokens"
   ]
  },
  {
   "cell_type": "code",
   "execution_count": null,
   "id": "a0e32e15",
   "metadata": {},
   "outputs": [],
   "source": []
  }
 ],
 "metadata": {
  "kernelspec": {
   "display_name": ".venv",
   "language": "python",
   "name": "python3"
  },
  "language_info": {
   "codemirror_mode": {
    "name": "ipython",
    "version": 3
   },
   "file_extension": ".py",
   "mimetype": "text/x-python",
   "name": "python",
   "nbconvert_exporter": "python",
   "pygments_lexer": "ipython3",
   "version": "3.13.3"
  }
 },
 "nbformat": 4,
 "nbformat_minor": 5
}
