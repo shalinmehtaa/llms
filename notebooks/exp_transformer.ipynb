{
 "cells": [
  {
   "cell_type": "code",
   "execution_count": 1,
   "id": "842705b1",
   "metadata": {},
   "outputs": [],
   "source": [
    "from collections.abc import Callable\n",
    "from typing import Optional\n",
    "import torch\n",
    "import math"
   ]
  },
  {
   "cell_type": "code",
   "execution_count": 2,
   "id": "ae152d17",
   "metadata": {},
   "outputs": [],
   "source": [
    "class SGD(torch.optim.Optimizer):\n",
    "\n",
    "    def __init__(self, params, lr=1e-3):\n",
    "        if lr < 0:\n",
    "            raise ValueError(f\"Invalid learning rate: {lr}\")\n",
    "        defaults = {\"lr\": lr}\n",
    "        super().__init__(params, defaults)\n",
    "\n",
    "    def step(self, closure: Optional[Callable] = None):\n",
    "        loss = None if closure is None else closure()\n",
    "        for group in self.param_groups:\n",
    "            lr = group[\"lr\"] # Get the learning rate\n",
    "\n",
    "            for p in group[\"params\"]:\n",
    "                if p.grad is None:\n",
    "                    continue\n",
    "                state = self.state[p] # Get state associated with p.\n",
    "                t = state.get(\"t\", 0) # Get iteration number from the state, or initial value.\n",
    "                grad = p.grad.data # Get the gradient of loss with respect to p.\n",
    "                p.data -= lr / math.sqrt(t + 1) * grad # Update weight tensor in-place.\n",
    "                state[\"t\"] = t + 1 # Increment iteration number.\n",
    "                return loss"
   ]
  },
  {
   "cell_type": "code",
   "execution_count": 3,
   "id": "f82945c0",
   "metadata": {},
   "outputs": [],
   "source": [
    "weights = torch.nn.Parameter(5 * torch.randn((10, 10)))\n",
    "opt = SGD([weights], lr=1)"
   ]
  },
  {
   "cell_type": "code",
   "execution_count": 4,
   "id": "4669cd78",
   "metadata": {},
   "outputs": [
    {
     "name": "stdout",
     "output_type": "stream",
     "text": [
      "25.010469436645508\n",
      "24.02005386352539\n",
      "23.345468521118164\n",
      "22.809438705444336\n",
      "22.355531692504883\n",
      "21.957412719726562\n",
      "21.600313186645508\n",
      "21.274982452392578\n",
      "20.975173950195312\n",
      "20.696435928344727\n",
      "20.435470581054688\n",
      "20.18975257873535\n",
      "19.957294464111328\n",
      "19.73650360107422\n",
      "19.526073455810547\n",
      "19.324932098388672\n",
      "19.132164001464844\n",
      "18.947004318237305\n",
      "18.7687931060791\n",
      "18.596952438354492\n",
      "18.430988311767578\n",
      "18.27046012878418\n",
      "18.11498260498047\n",
      "17.964208602905273\n",
      "17.81783103942871\n",
      "17.675573348999023\n",
      "17.537185668945312\n",
      "17.402442932128906\n",
      "17.271142959594727\n",
      "17.143095016479492\n",
      "17.018129348754883\n",
      "16.896085739135742\n",
      "16.776824951171875\n",
      "16.660207748413086\n",
      "16.54611587524414\n",
      "16.434432983398438\n",
      "16.325050354003906\n",
      "16.217876434326172\n",
      "16.112812042236328\n",
      "16.00977325439453\n",
      "15.90867805480957\n",
      "15.809453010559082\n",
      "15.712023735046387\n",
      "15.616328239440918\n",
      "15.522302627563477\n",
      "15.429882049560547\n",
      "15.33901596069336\n",
      "15.249648094177246\n",
      "15.161731719970703\n",
      "15.075218200683594\n",
      "14.990059852600098\n",
      "14.90621566772461\n",
      "14.823646545410156\n",
      "14.742310523986816\n",
      "14.6621732711792\n",
      "14.583196640014648\n",
      "14.505350112915039\n",
      "14.42860221862793\n",
      "14.352919578552246\n",
      "14.278273582458496\n",
      "14.204634666442871\n",
      "14.131979942321777\n",
      "14.060277938842773\n",
      "13.989513397216797\n",
      "13.919652938842773\n",
      "13.850677490234375\n",
      "13.782565116882324\n",
      "13.715295791625977\n",
      "13.648847579956055\n",
      "13.583200454711914\n",
      "13.518340110778809\n",
      "13.454241752624512\n",
      "13.390892028808594\n",
      "13.328276634216309\n",
      "13.26637077331543\n",
      "13.205168724060059\n",
      "13.144647598266602\n",
      "13.084796905517578\n",
      "13.025601387023926\n",
      "12.967048645019531\n",
      "12.909122467041016\n",
      "12.851812362670898\n",
      "12.795105934143066\n",
      "12.738988876342773\n",
      "12.683452606201172\n",
      "12.628482818603516\n",
      "12.574071884155273\n",
      "12.520206451416016\n",
      "12.466876983642578\n",
      "12.414073944091797\n",
      "12.361785888671875\n",
      "12.310005187988281\n",
      "12.258723258972168\n",
      "12.207929611206055\n",
      "12.157614707946777\n",
      "12.107771873474121\n",
      "12.058393478393555\n",
      "12.009469032287598\n",
      "11.960990905761719\n",
      "11.912955284118652\n"
     ]
    }
   ],
   "source": [
    "for t in range(100):\n",
    "    opt.zero_grad() # Reset the gradients for all learnable parameters.\n",
    "    loss = (weights**2).mean() # Compute a scalar loss value.\n",
    "    print(loss.cpu().item())\n",
    "    loss.backward() # Run backward pass, which computes gradients.\n",
    "    opt.step() # Run optimizer step."
   ]
  },
  {
   "cell_type": "code",
   "execution_count": 5,
   "id": "5b0d93f0",
   "metadata": {},
   "outputs": [
    {
     "name": "stdout",
     "output_type": "stream",
     "text": [
      "11.865350723266602\n",
      "7.59382438659668\n",
      "5.597843170166016\n",
      "4.379714488983154\n",
      "3.5475683212280273\n",
      "2.941340923309326\n",
      "2.4806313514709473\n",
      "2.119769811630249\n",
      "1.8305882215499878\n",
      "1.5946455001831055\n"
     ]
    }
   ],
   "source": [
    "opt = SGD([weights], lr=10)\n",
    "for t in range(10):\n",
    "    opt.zero_grad() # Reset the gradients for all learnable parameters.\n",
    "    loss = (weights**2).mean() # Compute a scalar loss value.\n",
    "    print(loss.cpu().item())\n",
    "    loss.backward() # Run backward pass, which computes gradients.\n",
    "    opt.step() # Run optimizer step."
   ]
  },
  {
   "cell_type": "code",
   "execution_count": 6,
   "id": "f3516ede",
   "metadata": {},
   "outputs": [
    {
     "name": "stdout",
     "output_type": "stream",
     "text": [
      "1.3993158340454102\n",
      "0.8955620527267456\n",
      "0.6601700782775879\n",
      "0.5165126323699951\n",
      "0.4183751940727234\n",
      "0.34688103199005127\n",
      "0.2925480902194977\n",
      "0.24999068677425385\n",
      "0.215886652469635\n",
      "0.18806123733520508\n",
      "0.16502541303634644\n",
      "0.14572268724441528\n",
      "0.12938180565834045\n",
      "0.11542629450559616\n",
      "0.10341650247573853\n",
      "0.09301145374774933\n",
      "0.08394284546375275\n",
      "0.07599671185016632\n",
      "0.06900055706501007\n",
      "0.0628138929605484\n"
     ]
    }
   ],
   "source": [
    "opt = SGD([weights], lr=10)\n",
    "for t in range(20):\n",
    "    opt.zero_grad() # Reset the gradients for all learnable parameters.\n",
    "    loss = (weights**2).mean() # Compute a scalar loss value.\n",
    "    print(loss.cpu().item())\n",
    "    loss.backward() # Run backward pass, which computes gradients.\n",
    "    opt.step() # Run optimizer step."
   ]
  },
  {
   "cell_type": "code",
   "execution_count": 7,
   "id": "762950b8",
   "metadata": {},
   "outputs": [
    {
     "name": "stdout",
     "output_type": "stream",
     "text": [
      "0.05732128024101257\n",
      "0.009171404875814915\n",
      "0.003040062729269266\n",
      "0.0012986530782654881\n",
      "0.0006363400025293231\n",
      "0.0003406605974305421\n",
      "0.0001942113012773916\n",
      "0.00011611334775807336\n",
      "7.207573071355e-05\n",
      "4.612846169038676e-05\n"
     ]
    }
   ],
   "source": [
    "opt = SGD([weights], lr=30)\n",
    "for t in range(10):\n",
    "    opt.zero_grad() # Reset the gradients for all learnable parameters.\n",
    "    loss = (weights**2).mean() # Compute a scalar loss value.\n",
    "    print(loss.cpu().item())\n",
    "    loss.backward() # Run backward pass, which computes gradients.\n",
    "    opt.step() # Run optimizer step."
   ]
  },
  {
   "cell_type": "code",
   "execution_count": 8,
   "id": "1e31b1fc",
   "metadata": {},
   "outputs": [],
   "source": [
    "import pandas as pd"
   ]
  },
  {
   "cell_type": "code",
   "execution_count": 10,
   "id": "e09b3fb0",
   "metadata": {},
   "outputs": [],
   "source": [
    "df = pd.read_csv(\"/root/scratchformer/checkpoints/RUN_LR2e4_DM768_NL8_NH16_FF2048_BS64_CL512_WD001/metrics.csv\").set_index('step')"
   ]
  },
  {
   "cell_type": "code",
   "execution_count": 11,
   "id": "a129c4f4",
   "metadata": {},
   "outputs": [
    {
     "data": {
      "text/html": [
       "<div>\n",
       "<style scoped>\n",
       "    .dataframe tbody tr th:only-of-type {\n",
       "        vertical-align: middle;\n",
       "    }\n",
       "\n",
       "    .dataframe tbody tr th {\n",
       "        vertical-align: top;\n",
       "    }\n",
       "\n",
       "    .dataframe thead th {\n",
       "        text-align: right;\n",
       "    }\n",
       "</style>\n",
       "<table border=\"1\" class=\"dataframe\">\n",
       "  <thead>\n",
       "    <tr style=\"text-align: right;\">\n",
       "      <th></th>\n",
       "      <th>lr</th>\n",
       "      <th>train_loss</th>\n",
       "      <th>ema_loss</th>\n",
       "      <th>val_loss</th>\n",
       "      <th>grad_norm</th>\n",
       "      <th>tok_per_s</th>\n",
       "      <th>elapsed_s</th>\n",
       "    </tr>\n",
       "    <tr>\n",
       "      <th>step</th>\n",
       "      <th></th>\n",
       "      <th></th>\n",
       "      <th></th>\n",
       "      <th></th>\n",
       "      <th></th>\n",
       "      <th></th>\n",
       "      <th></th>\n",
       "    </tr>\n",
       "  </thead>\n",
       "  <tbody>\n",
       "    <tr>\n",
       "      <th>1</th>\n",
       "      <td>0.000000</td>\n",
       "      <td>11.325184</td>\n",
       "      <td>11.325184</td>\n",
       "      <td>11.307523</td>\n",
       "      <td>5.176494</td>\n",
       "      <td>5658.688385</td>\n",
       "      <td>5.790741</td>\n",
       "    </tr>\n",
       "    <tr>\n",
       "      <th>10</th>\n",
       "      <td>0.000004</td>\n",
       "      <td>11.142019</td>\n",
       "      <td>11.294049</td>\n",
       "      <td>11.097614</td>\n",
       "      <td>5.246981</td>\n",
       "      <td>191743.757673</td>\n",
       "      <td>1.708947</td>\n",
       "    </tr>\n",
       "    <tr>\n",
       "      <th>20</th>\n",
       "      <td>0.000008</td>\n",
       "      <td>10.548866</td>\n",
       "      <td>11.102663</td>\n",
       "      <td>10.449252</td>\n",
       "      <td>4.859261</td>\n",
       "      <td>172791.421756</td>\n",
       "      <td>1.896390</td>\n",
       "    </tr>\n",
       "    <tr>\n",
       "      <th>30</th>\n",
       "      <td>0.000012</td>\n",
       "      <td>9.679905</td>\n",
       "      <td>10.668383</td>\n",
       "      <td>9.562382</td>\n",
       "      <td>4.020577</td>\n",
       "      <td>172751.871887</td>\n",
       "      <td>1.896825</td>\n",
       "    </tr>\n",
       "    <tr>\n",
       "      <th>40</th>\n",
       "      <td>0.000016</td>\n",
       "      <td>8.885066</td>\n",
       "      <td>10.064283</td>\n",
       "      <td>8.837377</td>\n",
       "      <td>2.681456</td>\n",
       "      <td>171467.502359</td>\n",
       "      <td>1.911033</td>\n",
       "    </tr>\n",
       "  </tbody>\n",
       "</table>\n",
       "</div>"
      ],
      "text/plain": [
       "            lr  train_loss   ema_loss   val_loss  grad_norm      tok_per_s  \\\n",
       "step                                                                         \n",
       "1     0.000000   11.325184  11.325184  11.307523   5.176494    5658.688385   \n",
       "10    0.000004   11.142019  11.294049  11.097614   5.246981  191743.757673   \n",
       "20    0.000008   10.548866  11.102663  10.449252   4.859261  172791.421756   \n",
       "30    0.000012    9.679905  10.668383   9.562382   4.020577  172751.871887   \n",
       "40    0.000016    8.885066  10.064283   8.837377   2.681456  171467.502359   \n",
       "\n",
       "      elapsed_s  \n",
       "step             \n",
       "1      5.790741  \n",
       "10     1.708947  \n",
       "20     1.896390  \n",
       "30     1.896825  \n",
       "40     1.911033  "
      ]
     },
     "execution_count": 11,
     "metadata": {},
     "output_type": "execute_result"
    }
   ],
   "source": [
    "df.head()"
   ]
  },
  {
   "cell_type": "code",
   "execution_count": 13,
   "id": "da42532a",
   "metadata": {},
   "outputs": [
    {
     "data": {
      "image/png": "[encoded data removed]",
      "text/plain": [
       "<Figure size 640x480 with 1 Axes>"
      ]
     },
     "metadata": {},
     "output_type": "display_data"
    }
   ],
   "source": [
    "df.train_loss.plot();"
   ]
  },
  {
   "cell_type": "code",
   "execution_count": 14,
   "id": "17e87692",
   "metadata": {},
   "outputs": [
    {
     "data": {
      "image/png": "[encoded data removed]",
      "text/plain": [
       "<Figure size 640x480 with 1 Axes>"
      ]
     },
     "metadata": {},
     "output_type": "display_data"
    }
   ],
   "source": [
    "df.lr.plot();"
   ]
  },
  {
   "cell_type": "code",
   "execution_count": 15,
   "id": "0bbf79ac",
   "metadata": {},
   "outputs": [
    {
     "data": {
      "text/plain": [
       "np.float64(0.3150907397270203)"
      ]
     },
     "execution_count": 15,
     "metadata": {},
     "output_type": "execute_result"
    }
   ],
   "source": [
    "df.elapsed_s.cumsum().iloc[-1] / 3600 * 60"
   ]
  },
  {
   "cell_type": "code",
   "execution_count": null,
   "id": "1f8d9e4d",
   "metadata": {},
   "outputs": [],
   "source": []
  }
 ],
 "metadata": {
  "kernelspec": {
   "display_name": ".venv",
   "language": "python",
   "name": "python3"
  },
  "language_info": {
   "codemirror_mode": {
    "name": "ipython",
    "version": 3
   },
   "file_extension": ".py",
   "mimetype": "text/x-python",
   "name": "python",
   "nbconvert_exporter": "python",
   "pygments_lexer": "ipython3",
   "version": "3.13.7"
  }
 },
 "nbformat": 4,
 "nbformat_minor": 5
}
